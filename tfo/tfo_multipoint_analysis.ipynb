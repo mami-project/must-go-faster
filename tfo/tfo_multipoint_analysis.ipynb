{
 "cells": [
  {
   "cell_type": "code",
   "execution_count": 1,
   "metadata": {
    "collapsed": true
   },
   "outputs": [],
   "source": [
    "import json\n",
    "import pandas as pd\n",
    "import matplotlib as plt\n",
    "\n",
    "%matplotlib inline\n",
    "\n",
    "def gen_fjson(filename):\n",
    "    \"\"\"\n",
    "    Iterate over objects in an FJSON file.\n",
    "    \"\"\"\n",
    "    with open(filename) as f:\n",
    "        for line in f:\n",
    "            try:\n",
    "                yield json.loads(line)\n",
    "            except:\n",
    "                pass\n",
    "\n",
    "def rejoin_tfo_df(tfo_rdf):\n",
    "    tfo_df = tfo_rdf.loc[:,['tfostate','connstate','dip','host','rank',\n",
    "                            'fwd_rst','rev_rst','tfo_seq','tfo_ack','tfo_dlen','tfo_synclen']]\n",
    "\n",
    "    tfo_0df = tfo_df[tfo_df['tfostate'] == 0].copy()\n",
    "    tfo_0df.index = tfo_0df.dip\n",
    "    del(tfo_0df['tfostate'])\n",
    "    del(tfo_0df['dip'])\n",
    "    del(tfo_0df['tfo_seq'])\n",
    "    del(tfo_0df['tfo_ack'])\n",
    "    del(tfo_0df['tfo_dlen'])\n",
    "    del(tfo_0df['tfo_synclen'])\n",
    "    tfo_0df.columns = ['conn_t0','host','rank','fwd_rst_t0','rev_rst_t0']\n",
    "\n",
    "    tfo_1df = tfo_df[tfo_df['tfostate'] == 1].copy()\n",
    "    tfo_1df.index = tfo_1df.dip\n",
    "    del(tfo_1df['tfostate'])\n",
    "    del(tfo_1df['dip'])\n",
    "    del(tfo_1df['host'])\n",
    "    del(tfo_1df['rank'])\n",
    "    tfo_1df.columns = ['conn_t1','fwd_rst_t1','rev_rst_t1','tfo_seq','tfo_ack','tfo_dlen','tfo_synclen']\n",
    "    tfo_1df['tfo_dao'] = tfo_1df['tfo_ack'] - tfo_1df['tfo_seq'] - tfo_1df['tfo_dlen'] - 1\n",
    "    \n",
    "    tfo_jdf = tfo_0df.join(tfo_1df, how=\"inner\")\n",
    "    tfo_xdf = tfo_0df.loc[tfo_0df.index.difference(tfo_1df.index)]\n",
    "    \n",
    "    return(tfo_jdf, tfo_xdf)"
   ]
  },
  {
   "cell_type": "code",
   "execution_count": 2,
   "metadata": {
    "collapsed": true
   },
   "outputs": [],
   "source": [
    "VPS = ('ams3','lon1','fra1','sgp1','tor1','sfo2')"
   ]
  },
  {
   "cell_type": "markdown",
   "metadata": {},
   "source": [
    "## path-dependent cookie negotiation? \n",
    "not really, just transients."
   ]
  },
  {
   "cell_type": "code",
   "execution_count": 3,
   "metadata": {
    "collapsed": false
   },
   "outputs": [],
   "source": [
    "tfo_cookie_jdfs = []\n",
    "tfo_cookie_xdfs = []\n",
    "\n",
    "tfo_cookie_jdf = []\n",
    "\n",
    "for run in range(0,3):\n",
    "    tfo_cookie_jdfs.append({})\n",
    "    tfo_cookie_xdfs.append({})\n",
    "    \n",
    "    for vp in VPS:\n",
    "        (tfo_cookie_jdfs[run][vp], tfo_cookie_xdfs[run][vp]) = \\\n",
    "            rejoin_tfo_df(pd.DataFrame(gen_fjson(\"cookie6_run\"+str(run)+\"_vp\"+vp+\".fjson\")))\n",
    "        tfo_cookie_jdfs[run][vp] = tfo_cookie_jdfs[run][vp].loc[:,['tfo_synclen','tfo_dao']]\n",
    "        tfo_cookie_jdfs[run][vp].columns = (str(run)+\"_\"+vp+\"_cookie\", str(run)+\"_\"+vp+\"_dao\")\n",
    "\n",
    "    tfo_cookie_jdf.append(tfo_cookie_jdfs[run][VPS[0]])\n",
    "    for vp in VPS[1:]:\n",
    "        tfo_cookie_jdf[run] = tfo_cookie_jdf[run].join(tfo_cookie_jdfs[run][vp], how=\"inner\")\n",
    "\n",
    "tfo_cookie_df = tfo_cookie_jdf[0]\n",
    "for run in range(1,3):\n",
    "    tfo_cookie_df = tfo_cookie_df.join(tfo_cookie_jdf[run], how=\"inner\")"
   ]
  },
  {
   "cell_type": "code",
   "execution_count": 4,
   "metadata": {
    "collapsed": false
   },
   "outputs": [],
   "source": [
    "cookie_cols = []\n",
    "for run in range(0,3):\n",
    "    for vp in VPS:\n",
    "        cookie_cols.append(\"_\".join((str(run), vp, \"cookie\")))\n",
    "\n",
    "all_cookie_df = tfo_cookie_df[tfo_cookie_df.loc[:,cookie_cols].sum(axis=1) == 8 * len(cookie_cols)]\n",
    "not_all_cookie_df = tfo_cookie_df.loc[tfo_cookie_df.index.difference(all_cookie_df.index)]"
   ]
  },
  {
   "cell_type": "code",
   "execution_count": 5,
   "metadata": {
    "collapsed": false
   },
   "outputs": [
    {
     "data": {
      "text/plain": [
       "16"
      ]
     },
     "execution_count": 5,
     "metadata": {},
     "output_type": "execute_result"
    }
   ],
   "source": [
    "len(not_all_cookie_df)"
   ]
  },
  {
   "cell_type": "markdown",
   "metadata": {},
   "source": [
    "## stable TFO-dependent connectivity?"
   ]
  },
  {
   "cell_type": "code",
   "execution_count": 6,
   "metadata": {
    "collapsed": false
   },
   "outputs": [],
   "source": [
    "tfo_cfail_jdfs = {}\n",
    "tfo_cfail_xdfs = {}\n",
    "\n",
    "for vp in VPS:\n",
    "    (tfo_cfail_jdfs[vp], tfo_cfail_xdfs[vp]) = \\\n",
    "        rejoin_tfo_df(pd.DataFrame(gen_fjson(\"cfail6_run0_vp\"+vp+\".fjson\")))\n",
    "    tfo_cfail_jdfs[vp] = tfo_cfail_jdfs[vp].loc[:,['conn_t0','conn_t1']]\n",
    "    tfo_cfail_jdfs[vp].columns = (vp+\"_c0\", vp+\"_c1\")\n",
    "    \n",
    "tfo_cfail_jdf = tfo_cfail_jdfs[VPS[0]]\n",
    "for vp in VPS[1:]:\n",
    "    tfo_cfail_jdf = tfo_cfail_jdf.join(tfo_cfail_jdfs[vp], how=\"inner\")"
   ]
  },
  {
   "cell_type": "code",
   "execution_count": 7,
   "metadata": {
    "collapsed": false
   },
   "outputs": [],
   "source": [
    "tfo_cfail_jdf['c0'] = tfo_cfail_jdf.loc[:,[vp+\"_c0\" for vp in VPS]].sum(axis=1)\n",
    "tfo_cfail_jdf['c1'] = tfo_cfail_jdf.loc[:,[vp+\"_c1\" for vp in VPS]].sum(axis=1)"
   ]
  },
  {
   "cell_type": "code",
   "execution_count": 8,
   "metadata": {
    "collapsed": false
   },
   "outputs": [
    {
     "data": {
      "text/html": [
       "<div>\n",
       "<table border=\"1\" class=\"dataframe\">\n",
       "  <thead>\n",
       "    <tr style=\"text-align: right;\">\n",
       "      <th></th>\n",
       "      <th>ams3_c0</th>\n",
       "      <th>ams3_c1</th>\n",
       "      <th>lon1_c0</th>\n",
       "      <th>lon1_c1</th>\n",
       "      <th>fra1_c0</th>\n",
       "      <th>fra1_c1</th>\n",
       "      <th>sgp1_c0</th>\n",
       "      <th>sgp1_c1</th>\n",
       "      <th>tor1_c0</th>\n",
       "      <th>tor1_c1</th>\n",
       "      <th>sfo2_c0</th>\n",
       "      <th>sfo2_c1</th>\n",
       "      <th>c0</th>\n",
       "      <th>c1</th>\n",
       "    </tr>\n",
       "    <tr>\n",
       "      <th>dip</th>\n",
       "      <th></th>\n",
       "      <th></th>\n",
       "      <th></th>\n",
       "      <th></th>\n",
       "      <th></th>\n",
       "      <th></th>\n",
       "      <th></th>\n",
       "      <th></th>\n",
       "      <th></th>\n",
       "      <th></th>\n",
       "      <th></th>\n",
       "      <th></th>\n",
       "      <th></th>\n",
       "      <th></th>\n",
       "    </tr>\n",
       "  </thead>\n",
       "  <tbody>\n",
       "    <tr>\n",
       "      <th>101.251.112.199</th>\n",
       "      <td>True</td>\n",
       "      <td>False</td>\n",
       "      <td>True</td>\n",
       "      <td>False</td>\n",
       "      <td>True</td>\n",
       "      <td>False</td>\n",
       "      <td>True</td>\n",
       "      <td>False</td>\n",
       "      <td>True</td>\n",
       "      <td>False</td>\n",
       "      <td>True</td>\n",
       "      <td>False</td>\n",
       "      <td>6</td>\n",
       "      <td>0</td>\n",
       "    </tr>\n",
       "    <tr>\n",
       "      <th>222.73.86.116</th>\n",
       "      <td>True</td>\n",
       "      <td>False</td>\n",
       "      <td>True</td>\n",
       "      <td>False</td>\n",
       "      <td>True</td>\n",
       "      <td>False</td>\n",
       "      <td>True</td>\n",
       "      <td>False</td>\n",
       "      <td>True</td>\n",
       "      <td>False</td>\n",
       "      <td>True</td>\n",
       "      <td>False</td>\n",
       "      <td>6</td>\n",
       "      <td>0</td>\n",
       "    </tr>\n",
       "    <tr>\n",
       "      <th>222.186.191.198</th>\n",
       "      <td>True</td>\n",
       "      <td>False</td>\n",
       "      <td>True</td>\n",
       "      <td>False</td>\n",
       "      <td>True</td>\n",
       "      <td>False</td>\n",
       "      <td>True</td>\n",
       "      <td>False</td>\n",
       "      <td>True</td>\n",
       "      <td>False</td>\n",
       "      <td>True</td>\n",
       "      <td>False</td>\n",
       "      <td>6</td>\n",
       "      <td>0</td>\n",
       "    </tr>\n",
       "    <tr>\n",
       "      <th>61.67.176.168</th>\n",
       "      <td>True</td>\n",
       "      <td>False</td>\n",
       "      <td>True</td>\n",
       "      <td>False</td>\n",
       "      <td>True</td>\n",
       "      <td>False</td>\n",
       "      <td>True</td>\n",
       "      <td>False</td>\n",
       "      <td>True</td>\n",
       "      <td>False</td>\n",
       "      <td>True</td>\n",
       "      <td>False</td>\n",
       "      <td>6</td>\n",
       "      <td>0</td>\n",
       "    </tr>\n",
       "  </tbody>\n",
       "</table>\n",
       "</div>"
      ],
      "text/plain": [
       "                ams3_c0 ams3_c1 lon1_c0 lon1_c1 fra1_c0 fra1_c1 sgp1_c0  \\\n",
       "dip                                                                       \n",
       "101.251.112.199    True   False    True   False    True   False    True   \n",
       "222.73.86.116      True   False    True   False    True   False    True   \n",
       "222.186.191.198    True   False    True   False    True   False    True   \n",
       "61.67.176.168      True   False    True   False    True   False    True   \n",
       "\n",
       "                sgp1_c1 tor1_c0 tor1_c1 sfo2_c0 sfo2_c1  c0  c1  \n",
       "dip                                                              \n",
       "101.251.112.199   False    True   False    True   False   6   0  \n",
       "222.73.86.116     False    True   False    True   False   6   0  \n",
       "222.186.191.198   False    True   False    True   False   6   0  \n",
       "61.67.176.168     False    True   False    True   False   6   0  "
      ]
     },
     "execution_count": 8,
     "metadata": {},
     "output_type": "execute_result"
    }
   ],
   "source": [
    "tfo_cfail_jdf[(tfo_cfail_jdf['c0'] == len(VPS)) & (tfo_cfail_jdf['c1'] == 0)]"
   ]
  }
 ],
 "metadata": {
  "kernelspec": {
   "display_name": "Python 3",
   "language": "python",
   "name": "python3"
  },
  "language_info": {
   "codemirror_mode": {
    "name": "ipython",
    "version": 3
   },
   "file_extension": ".py",
   "mimetype": "text/x-python",
   "name": "python",
   "nbconvert_exporter": "python",
   "pygments_lexer": "ipython3",
   "version": "3.5.2"
  }
 },
 "nbformat": 4,
 "nbformat_minor": 1
}
